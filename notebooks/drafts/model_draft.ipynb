{
 "cells": [
  {
   "cell_type": "code",
   "id": "initial_id",
   "metadata": {
    "collapsed": true,
    "ExecuteTime": {
     "end_time": "2024-06-21T09:03:06.949722Z",
     "start_time": "2024-06-21T09:03:06.947243Z"
    }
   },
   "source": [
    "import pandas as pd\n",
    "import numpy as np\n",
    "pd.options.display.float_format = '{:,.2f}'.format\n",
    "from sklearn.linear_model import LinearRegression\n",
    "from sklearn.model_selection import train_test_split\n",
    "from sklearn.metrics import mean_absolute_percentage_error\n",
    "from sklearn.feature_selection import SequentialFeatureSelector\n",
    "from sklearn.preprocessing import StandardScaler, MinMaxScaler"
   ],
   "outputs": [],
   "execution_count": 181
  },
  {
   "metadata": {
    "ExecuteTime": {
     "end_time": "2024-06-21T09:03:06.988661Z",
     "start_time": "2024-06-21T09:03:06.951413Z"
    }
   },
   "cell_type": "code",
   "source": "df_2 = pd.read_csv('../../data/interim/data_encoded(2_of_2).csv')",
   "id": "c7eafb1ce9ea3fd8",
   "outputs": [],
   "execution_count": 182
  },
  {
   "metadata": {
    "ExecuteTime": {
     "end_time": "2024-06-21T09:48:54.843569Z",
     "start_time": "2024-06-21T09:48:54.617675Z"
    }
   },
   "cell_type": "code",
   "source": "df_1 = pd.read_csv('../../data/interim/data_encoded.csv')",
   "id": "7b7c5e9ab93f8900",
   "outputs": [],
   "execution_count": 239
  },
  {
   "metadata": {
    "ExecuteTime": {
     "end_time": "2024-06-21T09:49:01.039929Z",
     "start_time": "2024-06-21T09:49:01.036918Z"
    }
   },
   "cell_type": "code",
   "source": "df_1['id'] = df_1['announcement_id']",
   "id": "f43d9d4158c0b11c",
   "outputs": [],
   "execution_count": 241
  },
  {
   "metadata": {
    "ExecuteTime": {
     "end_time": "2024-06-21T09:49:02.938592Z",
     "start_time": "2024-06-21T09:49:02.918353Z"
    }
   },
   "cell_type": "code",
   "source": "df = pd.merge(df_1, df_2, on='id', how='inner')",
   "id": "fe64a525f6895c1a",
   "outputs": [],
   "execution_count": 242
  },
  {
   "metadata": {
    "ExecuteTime": {
     "end_time": "2024-06-21T09:49:13.296849Z",
     "start_time": "2024-06-21T09:49:13.287513Z"
    }
   },
   "cell_type": "code",
   "source": "df = df.drop(['Unnamed: 0_x', 'announcement_id', 'building_type', 'Unnamed: 0_y'], axis=1)",
   "id": "39c5b736d0873161",
   "outputs": [],
   "execution_count": 244
  },
  {
   "metadata": {
    "ExecuteTime": {
     "end_time": "2024-06-21T09:49:15.597425Z",
     "start_time": "2024-06-21T09:49:15.592585Z"
    }
   },
   "cell_type": "code",
   "source": "df.loc[df['time'] > 60, 'time'] = df['time'].median()",
   "id": "5b7a3f4bf0145839",
   "outputs": [],
   "execution_count": 245
  },
  {
   "metadata": {
    "ExecuteTime": {
     "end_time": "2024-06-21T09:49:17.169802Z",
     "start_time": "2024-06-21T09:49:17.165045Z"
    }
   },
   "cell_type": "code",
   "source": "df.loc[df['buildind_floor'] == 116, 'buildind_floor'] = 16",
   "id": "992edc174627ebcd",
   "outputs": [],
   "execution_count": 246
  },
  {
   "metadata": {
    "ExecuteTime": {
     "end_time": "2024-06-21T09:53:39.382193Z",
     "start_time": "2024-06-21T09:53:39.374818Z"
    }
   },
   "cell_type": "code",
   "source": "df = df.drop(['id', 'link'], axis=1)",
   "id": "b6077503035db9d2",
   "outputs": [],
   "execution_count": 248
  },
  {
   "metadata": {
    "ExecuteTime": {
     "end_time": "2024-06-21T09:53:50.310346Z",
     "start_time": "2024-06-21T09:53:50.303498Z"
    }
   },
   "cell_type": "code",
   "source": "df.info()",
   "id": "6f5adf83c01e638e",
   "outputs": [
    {
     "name": "stdout",
     "output_type": "stream",
     "text": [
      "<class 'pandas.core.frame.DataFrame'>\n",
      "RangeIndex: 19737 entries, 0 to 19736\n",
      "Columns: 321 entries, rooms to ht_panel\n",
      "dtypes: float64(286), int64(35)\n",
      "memory usage: 48.3 MB\n"
     ]
    }
   ],
   "execution_count": 249
  },
  {
   "metadata": {
    "ExecuteTime": {
     "end_time": "2024-06-21T10:19:50.316198Z",
     "start_time": "2024-06-21T10:19:50.313320Z"
    }
   },
   "cell_type": "code",
   "source": "scaler_std = StandardScaler()",
   "id": "50c100e56433e4",
   "outputs": [],
   "execution_count": 288
  },
  {
   "metadata": {
    "ExecuteTime": {
     "end_time": "2024-06-21T10:02:57.577001Z",
     "start_time": "2024-06-21T10:02:57.568455Z"
    }
   },
   "cell_type": "code",
   "source": "df_test = df.drop(['rooms_size'], axis=1)",
   "id": "fea25093e1178446",
   "outputs": [],
   "execution_count": 272
  },
  {
   "metadata": {
    "ExecuteTime": {
     "end_time": "2024-06-21T10:19:59.107680Z",
     "start_time": "2024-06-21T10:19:59.093266Z"
    }
   },
   "cell_type": "code",
   "source": [
    "X = df.drop(columns=['price'])\n",
    "y = df['price']"
   ],
   "id": "b41e46c94a22137a",
   "outputs": [],
   "execution_count": 290
  },
  {
   "metadata": {
    "ExecuteTime": {
     "end_time": "2024-06-21T10:20:05.433766Z",
     "start_time": "2024-06-21T10:20:05.415129Z"
    }
   },
   "cell_type": "code",
   "source": "X_train, X_test, y_train, y_test = train_test_split(X, y, test_size=0.2, random_state=42)",
   "id": "d0c026323f694d39",
   "outputs": [],
   "execution_count": 291
  },
  {
   "metadata": {
    "ExecuteTime": {
     "end_time": "2024-06-21T10:22:50.152911Z",
     "start_time": "2024-06-21T10:22:50.107276Z"
    }
   },
   "cell_type": "code",
   "source": [
    "X_train_scaled = scaler_std.fit_transform(X_train)\n",
    "X_test_scaled = scaler_std.transform(X_test)"
   ],
   "id": "e32473dd39fa59b",
   "outputs": [],
   "execution_count": 299
  },
  {
   "metadata": {
    "ExecuteTime": {
     "end_time": "2024-06-21T10:24:55.007042Z",
     "start_time": "2024-06-21T10:24:54.772623Z"
    }
   },
   "cell_type": "code",
   "source": [
    "baseline_model = LinearRegression()\n",
    "baseline_model.fit(X_train_scaled, y_train)\n",
    "y_pred = baseline_model.predict(X_test_scaled)\n",
    "baseline_mape = mean_absolute_percentage_error(y_test, y_pred)\n",
    "print(f'Baseline MAPE: {baseline_mape}')"
   ],
   "id": "326cb5c711e96684",
   "outputs": [
    {
     "name": "stdout",
     "output_type": "stream",
     "text": [
      "Baseline MAPE: 0.3239451801530131\n"
     ]
    }
   ],
   "execution_count": 302
  },
  {
   "metadata": {
    "ExecuteTime": {
     "end_time": "2024-06-21T10:29:46.569188Z",
     "start_time": "2024-06-21T10:27:31.384548Z"
    }
   },
   "cell_type": "code",
   "source": [
    "# Sequential Feature Selector (forward selection)\n",
    "sfs = SequentialFeatureSelector(baseline_model, n_features_to_select=30, direction='forward', scoring='neg_mean_absolute_percentage_error', cv=5)\n",
    "sfs.fit(X_train_scaled, y_train)\n",
    "\n",
    "# Получение отобранных признаков\n",
    "selected_features = sfs.get_support()\n",
    "\n",
    "# Создание нового набора данных с отобранными признаками\n",
    "X_train_selected = X_train_scaled.loc[:, selected_features]\n",
    "X_test_selected = X_test_scaled.loc[:, selected_features]\n",
    "\n",
    "# Обучение модели на отобранных признаках\n",
    "selected_model = LinearRegression()\n",
    "selected_model.fit(X_train_selected, y_train)\n",
    "y_pred_selected = selected_model.predict(X_test_selected)\n",
    "\n",
    "# Оценка качества модели\n",
    "selected_mape = mean_absolute_percentage_error(y_test, y_pred_selected)\n",
    "print(f'MAPE на выбранных признаках: {selected_mape}')"
   ],
   "id": "dd337fa6eb781cf6",
   "outputs": [
    {
     "ename": "KeyboardInterrupt",
     "evalue": "",
     "output_type": "error",
     "traceback": [
      "\u001B[0;31m---------------------------------------------------------------------------\u001B[0m",
      "\u001B[0;31mKeyboardInterrupt\u001B[0m                         Traceback (most recent call last)",
      "Cell \u001B[0;32mIn[303], line 3\u001B[0m\n\u001B[1;32m      1\u001B[0m \u001B[38;5;66;03m# Sequential Feature Selector (forward selection)\u001B[39;00m\n\u001B[1;32m      2\u001B[0m sfs \u001B[38;5;241m=\u001B[39m SequentialFeatureSelector(baseline_model, n_features_to_select\u001B[38;5;241m=\u001B[39m\u001B[38;5;241m30\u001B[39m, direction\u001B[38;5;241m=\u001B[39m\u001B[38;5;124m'\u001B[39m\u001B[38;5;124mforward\u001B[39m\u001B[38;5;124m'\u001B[39m, scoring\u001B[38;5;241m=\u001B[39m\u001B[38;5;124m'\u001B[39m\u001B[38;5;124mneg_mean_absolute_percentage_error\u001B[39m\u001B[38;5;124m'\u001B[39m, cv\u001B[38;5;241m=\u001B[39m\u001B[38;5;241m5\u001B[39m)\n\u001B[0;32m----> 3\u001B[0m sfs\u001B[38;5;241m.\u001B[39mfit(X_train, y_train)\n\u001B[1;32m      5\u001B[0m \u001B[38;5;66;03m# Получение отобранных признаков\u001B[39;00m\n\u001B[1;32m      6\u001B[0m selected_features \u001B[38;5;241m=\u001B[39m sfs\u001B[38;5;241m.\u001B[39mget_support()\n",
      "File \u001B[0;32m~/anaconda3/envs/python-base/lib/python3.11/site-packages/sklearn/base.py:1474\u001B[0m, in \u001B[0;36m_fit_context.<locals>.decorator.<locals>.wrapper\u001B[0;34m(estimator, *args, **kwargs)\u001B[0m\n\u001B[1;32m   1467\u001B[0m     estimator\u001B[38;5;241m.\u001B[39m_validate_params()\n\u001B[1;32m   1469\u001B[0m \u001B[38;5;28;01mwith\u001B[39;00m config_context(\n\u001B[1;32m   1470\u001B[0m     skip_parameter_validation\u001B[38;5;241m=\u001B[39m(\n\u001B[1;32m   1471\u001B[0m         prefer_skip_nested_validation \u001B[38;5;129;01mor\u001B[39;00m global_skip_validation\n\u001B[1;32m   1472\u001B[0m     )\n\u001B[1;32m   1473\u001B[0m ):\n\u001B[0;32m-> 1474\u001B[0m     \u001B[38;5;28;01mreturn\u001B[39;00m fit_method(estimator, \u001B[38;5;241m*\u001B[39margs, \u001B[38;5;241m*\u001B[39m\u001B[38;5;241m*\u001B[39mkwargs)\n",
      "File \u001B[0;32m~/anaconda3/envs/python-base/lib/python3.11/site-packages/sklearn/feature_selection/_sequential.py:251\u001B[0m, in \u001B[0;36mSequentialFeatureSelector.fit\u001B[0;34m(self, X, y)\u001B[0m\n\u001B[1;32m    249\u001B[0m is_auto_select \u001B[38;5;241m=\u001B[39m \u001B[38;5;28mself\u001B[39m\u001B[38;5;241m.\u001B[39mtol \u001B[38;5;129;01mis\u001B[39;00m \u001B[38;5;129;01mnot\u001B[39;00m \u001B[38;5;28;01mNone\u001B[39;00m \u001B[38;5;129;01mand\u001B[39;00m \u001B[38;5;28mself\u001B[39m\u001B[38;5;241m.\u001B[39mn_features_to_select \u001B[38;5;241m==\u001B[39m \u001B[38;5;124m\"\u001B[39m\u001B[38;5;124mauto\u001B[39m\u001B[38;5;124m\"\u001B[39m\n\u001B[1;32m    250\u001B[0m \u001B[38;5;28;01mfor\u001B[39;00m _ \u001B[38;5;129;01min\u001B[39;00m \u001B[38;5;28mrange\u001B[39m(n_iterations):\n\u001B[0;32m--> 251\u001B[0m     new_feature_idx, new_score \u001B[38;5;241m=\u001B[39m \u001B[38;5;28mself\u001B[39m\u001B[38;5;241m.\u001B[39m_get_best_new_feature_score(\n\u001B[1;32m    252\u001B[0m         cloned_estimator, X, y, cv, current_mask\n\u001B[1;32m    253\u001B[0m     )\n\u001B[1;32m    254\u001B[0m     \u001B[38;5;28;01mif\u001B[39;00m is_auto_select \u001B[38;5;129;01mand\u001B[39;00m ((new_score \u001B[38;5;241m-\u001B[39m old_score) \u001B[38;5;241m<\u001B[39m \u001B[38;5;28mself\u001B[39m\u001B[38;5;241m.\u001B[39mtol):\n\u001B[1;32m    255\u001B[0m         \u001B[38;5;28;01mbreak\u001B[39;00m\n",
      "File \u001B[0;32m~/anaconda3/envs/python-base/lib/python3.11/site-packages/sklearn/feature_selection/_sequential.py:282\u001B[0m, in \u001B[0;36mSequentialFeatureSelector._get_best_new_feature_score\u001B[0;34m(self, estimator, X, y, cv, current_mask)\u001B[0m\n\u001B[1;32m    280\u001B[0m         candidate_mask \u001B[38;5;241m=\u001B[39m \u001B[38;5;241m~\u001B[39mcandidate_mask\n\u001B[1;32m    281\u001B[0m     X_new \u001B[38;5;241m=\u001B[39m X[:, candidate_mask]\n\u001B[0;32m--> 282\u001B[0m     scores[feature_idx] \u001B[38;5;241m=\u001B[39m cross_val_score(\n\u001B[1;32m    283\u001B[0m         estimator,\n\u001B[1;32m    284\u001B[0m         X_new,\n\u001B[1;32m    285\u001B[0m         y,\n\u001B[1;32m    286\u001B[0m         cv\u001B[38;5;241m=\u001B[39mcv,\n\u001B[1;32m    287\u001B[0m         scoring\u001B[38;5;241m=\u001B[39m\u001B[38;5;28mself\u001B[39m\u001B[38;5;241m.\u001B[39mscoring,\n\u001B[1;32m    288\u001B[0m         n_jobs\u001B[38;5;241m=\u001B[39m\u001B[38;5;28mself\u001B[39m\u001B[38;5;241m.\u001B[39mn_jobs,\n\u001B[1;32m    289\u001B[0m     )\u001B[38;5;241m.\u001B[39mmean()\n\u001B[1;32m    290\u001B[0m new_feature_idx \u001B[38;5;241m=\u001B[39m \u001B[38;5;28mmax\u001B[39m(scores, key\u001B[38;5;241m=\u001B[39m\u001B[38;5;28;01mlambda\u001B[39;00m feature_idx: scores[feature_idx])\n\u001B[1;32m    291\u001B[0m \u001B[38;5;28;01mreturn\u001B[39;00m new_feature_idx, scores[new_feature_idx]\n",
      "File \u001B[0;32m~/anaconda3/envs/python-base/lib/python3.11/site-packages/sklearn/utils/_param_validation.py:213\u001B[0m, in \u001B[0;36mvalidate_params.<locals>.decorator.<locals>.wrapper\u001B[0;34m(*args, **kwargs)\u001B[0m\n\u001B[1;32m    207\u001B[0m \u001B[38;5;28;01mtry\u001B[39;00m:\n\u001B[1;32m    208\u001B[0m     \u001B[38;5;28;01mwith\u001B[39;00m config_context(\n\u001B[1;32m    209\u001B[0m         skip_parameter_validation\u001B[38;5;241m=\u001B[39m(\n\u001B[1;32m    210\u001B[0m             prefer_skip_nested_validation \u001B[38;5;129;01mor\u001B[39;00m global_skip_validation\n\u001B[1;32m    211\u001B[0m         )\n\u001B[1;32m    212\u001B[0m     ):\n\u001B[0;32m--> 213\u001B[0m         \u001B[38;5;28;01mreturn\u001B[39;00m func(\u001B[38;5;241m*\u001B[39margs, \u001B[38;5;241m*\u001B[39m\u001B[38;5;241m*\u001B[39mkwargs)\n\u001B[1;32m    214\u001B[0m \u001B[38;5;28;01mexcept\u001B[39;00m InvalidParameterError \u001B[38;5;28;01mas\u001B[39;00m e:\n\u001B[1;32m    215\u001B[0m     \u001B[38;5;66;03m# When the function is just a wrapper around an estimator, we allow\u001B[39;00m\n\u001B[1;32m    216\u001B[0m     \u001B[38;5;66;03m# the function to delegate validation to the estimator, but we replace\u001B[39;00m\n\u001B[1;32m    217\u001B[0m     \u001B[38;5;66;03m# the name of the estimator by the name of the function in the error\u001B[39;00m\n\u001B[1;32m    218\u001B[0m     \u001B[38;5;66;03m# message to avoid confusion.\u001B[39;00m\n\u001B[1;32m    219\u001B[0m     msg \u001B[38;5;241m=\u001B[39m re\u001B[38;5;241m.\u001B[39msub(\n\u001B[1;32m    220\u001B[0m         \u001B[38;5;124mr\u001B[39m\u001B[38;5;124m\"\u001B[39m\u001B[38;5;124mparameter of \u001B[39m\u001B[38;5;124m\\\u001B[39m\u001B[38;5;124mw+ must be\u001B[39m\u001B[38;5;124m\"\u001B[39m,\n\u001B[1;32m    221\u001B[0m         \u001B[38;5;124mf\u001B[39m\u001B[38;5;124m\"\u001B[39m\u001B[38;5;124mparameter of \u001B[39m\u001B[38;5;132;01m{\u001B[39;00mfunc\u001B[38;5;241m.\u001B[39m\u001B[38;5;18m__qualname__\u001B[39m\u001B[38;5;132;01m}\u001B[39;00m\u001B[38;5;124m must be\u001B[39m\u001B[38;5;124m\"\u001B[39m,\n\u001B[1;32m    222\u001B[0m         \u001B[38;5;28mstr\u001B[39m(e),\n\u001B[1;32m    223\u001B[0m     )\n",
      "File \u001B[0;32m~/anaconda3/envs/python-base/lib/python3.11/site-packages/sklearn/model_selection/_validation.py:719\u001B[0m, in \u001B[0;36mcross_val_score\u001B[0;34m(estimator, X, y, groups, scoring, cv, n_jobs, verbose, fit_params, params, pre_dispatch, error_score)\u001B[0m\n\u001B[1;32m    716\u001B[0m \u001B[38;5;66;03m# To ensure multimetric format is not supported\u001B[39;00m\n\u001B[1;32m    717\u001B[0m scorer \u001B[38;5;241m=\u001B[39m check_scoring(estimator, scoring\u001B[38;5;241m=\u001B[39mscoring)\n\u001B[0;32m--> 719\u001B[0m cv_results \u001B[38;5;241m=\u001B[39m cross_validate(\n\u001B[1;32m    720\u001B[0m     estimator\u001B[38;5;241m=\u001B[39mestimator,\n\u001B[1;32m    721\u001B[0m     X\u001B[38;5;241m=\u001B[39mX,\n\u001B[1;32m    722\u001B[0m     y\u001B[38;5;241m=\u001B[39my,\n\u001B[1;32m    723\u001B[0m     groups\u001B[38;5;241m=\u001B[39mgroups,\n\u001B[1;32m    724\u001B[0m     scoring\u001B[38;5;241m=\u001B[39m{\u001B[38;5;124m\"\u001B[39m\u001B[38;5;124mscore\u001B[39m\u001B[38;5;124m\"\u001B[39m: scorer},\n\u001B[1;32m    725\u001B[0m     cv\u001B[38;5;241m=\u001B[39mcv,\n\u001B[1;32m    726\u001B[0m     n_jobs\u001B[38;5;241m=\u001B[39mn_jobs,\n\u001B[1;32m    727\u001B[0m     verbose\u001B[38;5;241m=\u001B[39mverbose,\n\u001B[1;32m    728\u001B[0m     fit_params\u001B[38;5;241m=\u001B[39mfit_params,\n\u001B[1;32m    729\u001B[0m     params\u001B[38;5;241m=\u001B[39mparams,\n\u001B[1;32m    730\u001B[0m     pre_dispatch\u001B[38;5;241m=\u001B[39mpre_dispatch,\n\u001B[1;32m    731\u001B[0m     error_score\u001B[38;5;241m=\u001B[39merror_score,\n\u001B[1;32m    732\u001B[0m )\n\u001B[1;32m    733\u001B[0m \u001B[38;5;28;01mreturn\u001B[39;00m cv_results[\u001B[38;5;124m\"\u001B[39m\u001B[38;5;124mtest_score\u001B[39m\u001B[38;5;124m\"\u001B[39m]\n",
      "File \u001B[0;32m~/anaconda3/envs/python-base/lib/python3.11/site-packages/sklearn/utils/_param_validation.py:213\u001B[0m, in \u001B[0;36mvalidate_params.<locals>.decorator.<locals>.wrapper\u001B[0;34m(*args, **kwargs)\u001B[0m\n\u001B[1;32m    207\u001B[0m \u001B[38;5;28;01mtry\u001B[39;00m:\n\u001B[1;32m    208\u001B[0m     \u001B[38;5;28;01mwith\u001B[39;00m config_context(\n\u001B[1;32m    209\u001B[0m         skip_parameter_validation\u001B[38;5;241m=\u001B[39m(\n\u001B[1;32m    210\u001B[0m             prefer_skip_nested_validation \u001B[38;5;129;01mor\u001B[39;00m global_skip_validation\n\u001B[1;32m    211\u001B[0m         )\n\u001B[1;32m    212\u001B[0m     ):\n\u001B[0;32m--> 213\u001B[0m         \u001B[38;5;28;01mreturn\u001B[39;00m func(\u001B[38;5;241m*\u001B[39margs, \u001B[38;5;241m*\u001B[39m\u001B[38;5;241m*\u001B[39mkwargs)\n\u001B[1;32m    214\u001B[0m \u001B[38;5;28;01mexcept\u001B[39;00m InvalidParameterError \u001B[38;5;28;01mas\u001B[39;00m e:\n\u001B[1;32m    215\u001B[0m     \u001B[38;5;66;03m# When the function is just a wrapper around an estimator, we allow\u001B[39;00m\n\u001B[1;32m    216\u001B[0m     \u001B[38;5;66;03m# the function to delegate validation to the estimator, but we replace\u001B[39;00m\n\u001B[1;32m    217\u001B[0m     \u001B[38;5;66;03m# the name of the estimator by the name of the function in the error\u001B[39;00m\n\u001B[1;32m    218\u001B[0m     \u001B[38;5;66;03m# message to avoid confusion.\u001B[39;00m\n\u001B[1;32m    219\u001B[0m     msg \u001B[38;5;241m=\u001B[39m re\u001B[38;5;241m.\u001B[39msub(\n\u001B[1;32m    220\u001B[0m         \u001B[38;5;124mr\u001B[39m\u001B[38;5;124m\"\u001B[39m\u001B[38;5;124mparameter of \u001B[39m\u001B[38;5;124m\\\u001B[39m\u001B[38;5;124mw+ must be\u001B[39m\u001B[38;5;124m\"\u001B[39m,\n\u001B[1;32m    221\u001B[0m         \u001B[38;5;124mf\u001B[39m\u001B[38;5;124m\"\u001B[39m\u001B[38;5;124mparameter of \u001B[39m\u001B[38;5;132;01m{\u001B[39;00mfunc\u001B[38;5;241m.\u001B[39m\u001B[38;5;18m__qualname__\u001B[39m\u001B[38;5;132;01m}\u001B[39;00m\u001B[38;5;124m must be\u001B[39m\u001B[38;5;124m\"\u001B[39m,\n\u001B[1;32m    222\u001B[0m         \u001B[38;5;28mstr\u001B[39m(e),\n\u001B[1;32m    223\u001B[0m     )\n",
      "File \u001B[0;32m~/anaconda3/envs/python-base/lib/python3.11/site-packages/sklearn/model_selection/_validation.py:430\u001B[0m, in \u001B[0;36mcross_validate\u001B[0;34m(estimator, X, y, groups, scoring, cv, n_jobs, verbose, fit_params, params, pre_dispatch, return_train_score, return_estimator, return_indices, error_score)\u001B[0m\n\u001B[1;32m    427\u001B[0m \u001B[38;5;66;03m# We clone the estimator to make sure that all the folds are\u001B[39;00m\n\u001B[1;32m    428\u001B[0m \u001B[38;5;66;03m# independent, and that it is pickle-able.\u001B[39;00m\n\u001B[1;32m    429\u001B[0m parallel \u001B[38;5;241m=\u001B[39m Parallel(n_jobs\u001B[38;5;241m=\u001B[39mn_jobs, verbose\u001B[38;5;241m=\u001B[39mverbose, pre_dispatch\u001B[38;5;241m=\u001B[39mpre_dispatch)\n\u001B[0;32m--> 430\u001B[0m results \u001B[38;5;241m=\u001B[39m parallel(\n\u001B[1;32m    431\u001B[0m     delayed(_fit_and_score)(\n\u001B[1;32m    432\u001B[0m         clone(estimator),\n\u001B[1;32m    433\u001B[0m         X,\n\u001B[1;32m    434\u001B[0m         y,\n\u001B[1;32m    435\u001B[0m         scorer\u001B[38;5;241m=\u001B[39mscorers,\n\u001B[1;32m    436\u001B[0m         train\u001B[38;5;241m=\u001B[39mtrain,\n\u001B[1;32m    437\u001B[0m         test\u001B[38;5;241m=\u001B[39mtest,\n\u001B[1;32m    438\u001B[0m         verbose\u001B[38;5;241m=\u001B[39mverbose,\n\u001B[1;32m    439\u001B[0m         parameters\u001B[38;5;241m=\u001B[39m\u001B[38;5;28;01mNone\u001B[39;00m,\n\u001B[1;32m    440\u001B[0m         fit_params\u001B[38;5;241m=\u001B[39mrouted_params\u001B[38;5;241m.\u001B[39mestimator\u001B[38;5;241m.\u001B[39mfit,\n\u001B[1;32m    441\u001B[0m         score_params\u001B[38;5;241m=\u001B[39mrouted_params\u001B[38;5;241m.\u001B[39mscorer\u001B[38;5;241m.\u001B[39mscore,\n\u001B[1;32m    442\u001B[0m         return_train_score\u001B[38;5;241m=\u001B[39mreturn_train_score,\n\u001B[1;32m    443\u001B[0m         return_times\u001B[38;5;241m=\u001B[39m\u001B[38;5;28;01mTrue\u001B[39;00m,\n\u001B[1;32m    444\u001B[0m         return_estimator\u001B[38;5;241m=\u001B[39mreturn_estimator,\n\u001B[1;32m    445\u001B[0m         error_score\u001B[38;5;241m=\u001B[39merror_score,\n\u001B[1;32m    446\u001B[0m     )\n\u001B[1;32m    447\u001B[0m     \u001B[38;5;28;01mfor\u001B[39;00m train, test \u001B[38;5;129;01min\u001B[39;00m indices\n\u001B[1;32m    448\u001B[0m )\n\u001B[1;32m    450\u001B[0m _warn_or_raise_about_fit_failures(results, error_score)\n\u001B[1;32m    452\u001B[0m \u001B[38;5;66;03m# For callable scoring, the return type is only know after calling. If the\u001B[39;00m\n\u001B[1;32m    453\u001B[0m \u001B[38;5;66;03m# return type is a dictionary, the error scores can now be inserted with\u001B[39;00m\n\u001B[1;32m    454\u001B[0m \u001B[38;5;66;03m# the correct key.\u001B[39;00m\n",
      "File \u001B[0;32m~/anaconda3/envs/python-base/lib/python3.11/site-packages/sklearn/utils/parallel.py:67\u001B[0m, in \u001B[0;36mParallel.__call__\u001B[0;34m(self, iterable)\u001B[0m\n\u001B[1;32m     62\u001B[0m config \u001B[38;5;241m=\u001B[39m get_config()\n\u001B[1;32m     63\u001B[0m iterable_with_config \u001B[38;5;241m=\u001B[39m (\n\u001B[1;32m     64\u001B[0m     (_with_config(delayed_func, config), args, kwargs)\n\u001B[1;32m     65\u001B[0m     \u001B[38;5;28;01mfor\u001B[39;00m delayed_func, args, kwargs \u001B[38;5;129;01min\u001B[39;00m iterable\n\u001B[1;32m     66\u001B[0m )\n\u001B[0;32m---> 67\u001B[0m \u001B[38;5;28;01mreturn\u001B[39;00m \u001B[38;5;28msuper\u001B[39m()\u001B[38;5;241m.\u001B[39m\u001B[38;5;21m__call__\u001B[39m(iterable_with_config)\n",
      "File \u001B[0;32m~/anaconda3/envs/python-base/lib/python3.11/site-packages/joblib/parallel.py:1918\u001B[0m, in \u001B[0;36mParallel.__call__\u001B[0;34m(self, iterable)\u001B[0m\n\u001B[1;32m   1916\u001B[0m     output \u001B[38;5;241m=\u001B[39m \u001B[38;5;28mself\u001B[39m\u001B[38;5;241m.\u001B[39m_get_sequential_output(iterable)\n\u001B[1;32m   1917\u001B[0m     \u001B[38;5;28mnext\u001B[39m(output)\n\u001B[0;32m-> 1918\u001B[0m     \u001B[38;5;28;01mreturn\u001B[39;00m output \u001B[38;5;28;01mif\u001B[39;00m \u001B[38;5;28mself\u001B[39m\u001B[38;5;241m.\u001B[39mreturn_generator \u001B[38;5;28;01melse\u001B[39;00m \u001B[38;5;28mlist\u001B[39m(output)\n\u001B[1;32m   1920\u001B[0m \u001B[38;5;66;03m# Let's create an ID that uniquely identifies the current call. If the\u001B[39;00m\n\u001B[1;32m   1921\u001B[0m \u001B[38;5;66;03m# call is interrupted early and that the same instance is immediately\u001B[39;00m\n\u001B[1;32m   1922\u001B[0m \u001B[38;5;66;03m# re-used, this id will be used to prevent workers that were\u001B[39;00m\n\u001B[1;32m   1923\u001B[0m \u001B[38;5;66;03m# concurrently finalizing a task from the previous call to run the\u001B[39;00m\n\u001B[1;32m   1924\u001B[0m \u001B[38;5;66;03m# callback.\u001B[39;00m\n\u001B[1;32m   1925\u001B[0m \u001B[38;5;28;01mwith\u001B[39;00m \u001B[38;5;28mself\u001B[39m\u001B[38;5;241m.\u001B[39m_lock:\n",
      "File \u001B[0;32m~/anaconda3/envs/python-base/lib/python3.11/site-packages/joblib/parallel.py:1847\u001B[0m, in \u001B[0;36mParallel._get_sequential_output\u001B[0;34m(self, iterable)\u001B[0m\n\u001B[1;32m   1845\u001B[0m \u001B[38;5;28mself\u001B[39m\u001B[38;5;241m.\u001B[39mn_dispatched_batches \u001B[38;5;241m+\u001B[39m\u001B[38;5;241m=\u001B[39m \u001B[38;5;241m1\u001B[39m\n\u001B[1;32m   1846\u001B[0m \u001B[38;5;28mself\u001B[39m\u001B[38;5;241m.\u001B[39mn_dispatched_tasks \u001B[38;5;241m+\u001B[39m\u001B[38;5;241m=\u001B[39m \u001B[38;5;241m1\u001B[39m\n\u001B[0;32m-> 1847\u001B[0m res \u001B[38;5;241m=\u001B[39m func(\u001B[38;5;241m*\u001B[39margs, \u001B[38;5;241m*\u001B[39m\u001B[38;5;241m*\u001B[39mkwargs)\n\u001B[1;32m   1848\u001B[0m \u001B[38;5;28mself\u001B[39m\u001B[38;5;241m.\u001B[39mn_completed_tasks \u001B[38;5;241m+\u001B[39m\u001B[38;5;241m=\u001B[39m \u001B[38;5;241m1\u001B[39m\n\u001B[1;32m   1849\u001B[0m \u001B[38;5;28mself\u001B[39m\u001B[38;5;241m.\u001B[39mprint_progress()\n",
      "File \u001B[0;32m~/anaconda3/envs/python-base/lib/python3.11/site-packages/sklearn/utils/parallel.py:129\u001B[0m, in \u001B[0;36m_FuncWrapper.__call__\u001B[0;34m(self, *args, **kwargs)\u001B[0m\n\u001B[1;32m    127\u001B[0m     config \u001B[38;5;241m=\u001B[39m {}\n\u001B[1;32m    128\u001B[0m \u001B[38;5;28;01mwith\u001B[39;00m config_context(\u001B[38;5;241m*\u001B[39m\u001B[38;5;241m*\u001B[39mconfig):\n\u001B[0;32m--> 129\u001B[0m     \u001B[38;5;28;01mreturn\u001B[39;00m \u001B[38;5;28mself\u001B[39m\u001B[38;5;241m.\u001B[39mfunction(\u001B[38;5;241m*\u001B[39margs, \u001B[38;5;241m*\u001B[39m\u001B[38;5;241m*\u001B[39mkwargs)\n",
      "File \u001B[0;32m~/anaconda3/envs/python-base/lib/python3.11/site-packages/sklearn/model_selection/_validation.py:895\u001B[0m, in \u001B[0;36m_fit_and_score\u001B[0;34m(estimator, X, y, scorer, train, test, verbose, parameters, fit_params, score_params, return_train_score, return_parameters, return_n_test_samples, return_times, return_estimator, split_progress, candidate_progress, error_score)\u001B[0m\n\u001B[1;32m    893\u001B[0m         estimator\u001B[38;5;241m.\u001B[39mfit(X_train, \u001B[38;5;241m*\u001B[39m\u001B[38;5;241m*\u001B[39mfit_params)\n\u001B[1;32m    894\u001B[0m     \u001B[38;5;28;01melse\u001B[39;00m:\n\u001B[0;32m--> 895\u001B[0m         estimator\u001B[38;5;241m.\u001B[39mfit(X_train, y_train, \u001B[38;5;241m*\u001B[39m\u001B[38;5;241m*\u001B[39mfit_params)\n\u001B[1;32m    897\u001B[0m \u001B[38;5;28;01mexcept\u001B[39;00m \u001B[38;5;167;01mException\u001B[39;00m:\n\u001B[1;32m    898\u001B[0m     \u001B[38;5;66;03m# Note fit time as time until error\u001B[39;00m\n\u001B[1;32m    899\u001B[0m     fit_time \u001B[38;5;241m=\u001B[39m time\u001B[38;5;241m.\u001B[39mtime() \u001B[38;5;241m-\u001B[39m start_time\n",
      "File \u001B[0;32m~/anaconda3/envs/python-base/lib/python3.11/site-packages/sklearn/base.py:1474\u001B[0m, in \u001B[0;36m_fit_context.<locals>.decorator.<locals>.wrapper\u001B[0;34m(estimator, *args, **kwargs)\u001B[0m\n\u001B[1;32m   1467\u001B[0m     estimator\u001B[38;5;241m.\u001B[39m_validate_params()\n\u001B[1;32m   1469\u001B[0m \u001B[38;5;28;01mwith\u001B[39;00m config_context(\n\u001B[1;32m   1470\u001B[0m     skip_parameter_validation\u001B[38;5;241m=\u001B[39m(\n\u001B[1;32m   1471\u001B[0m         prefer_skip_nested_validation \u001B[38;5;129;01mor\u001B[39;00m global_skip_validation\n\u001B[1;32m   1472\u001B[0m     )\n\u001B[1;32m   1473\u001B[0m ):\n\u001B[0;32m-> 1474\u001B[0m     \u001B[38;5;28;01mreturn\u001B[39;00m fit_method(estimator, \u001B[38;5;241m*\u001B[39margs, \u001B[38;5;241m*\u001B[39m\u001B[38;5;241m*\u001B[39mkwargs)\n",
      "File \u001B[0;32m~/anaconda3/envs/python-base/lib/python3.11/site-packages/sklearn/linear_model/_base.py:651\u001B[0m, in \u001B[0;36mLinearRegression.fit\u001B[0;34m(self, X, y, sample_weight)\u001B[0m\n\u001B[1;32m    649\u001B[0m         \u001B[38;5;28mself\u001B[39m\u001B[38;5;241m.\u001B[39mcoef_ \u001B[38;5;241m=\u001B[39m np\u001B[38;5;241m.\u001B[39mvstack([out[\u001B[38;5;241m0\u001B[39m] \u001B[38;5;28;01mfor\u001B[39;00m out \u001B[38;5;129;01min\u001B[39;00m outs])\n\u001B[1;32m    650\u001B[0m \u001B[38;5;28;01melse\u001B[39;00m:\n\u001B[0;32m--> 651\u001B[0m     \u001B[38;5;28mself\u001B[39m\u001B[38;5;241m.\u001B[39mcoef_, _, \u001B[38;5;28mself\u001B[39m\u001B[38;5;241m.\u001B[39mrank_, \u001B[38;5;28mself\u001B[39m\u001B[38;5;241m.\u001B[39msingular_ \u001B[38;5;241m=\u001B[39m linalg\u001B[38;5;241m.\u001B[39mlstsq(X, y)\n\u001B[1;32m    652\u001B[0m     \u001B[38;5;28mself\u001B[39m\u001B[38;5;241m.\u001B[39mcoef_ \u001B[38;5;241m=\u001B[39m \u001B[38;5;28mself\u001B[39m\u001B[38;5;241m.\u001B[39mcoef_\u001B[38;5;241m.\u001B[39mT\n\u001B[1;32m    654\u001B[0m \u001B[38;5;28;01mif\u001B[39;00m y\u001B[38;5;241m.\u001B[39mndim \u001B[38;5;241m==\u001B[39m \u001B[38;5;241m1\u001B[39m:\n",
      "File \u001B[0;32m~/anaconda3/envs/python-base/lib/python3.11/site-packages/scipy/linalg/_basic.py:1282\u001B[0m, in \u001B[0;36mlstsq\u001B[0;34m(a, b, cond, overwrite_a, overwrite_b, check_finite, lapack_driver)\u001B[0m\n\u001B[1;32m   1280\u001B[0m \u001B[38;5;28;01mif\u001B[39;00m real_data:\n\u001B[1;32m   1281\u001B[0m     lwork, iwork \u001B[38;5;241m=\u001B[39m _compute_lwork(lapack_lwork, m, n, nrhs, cond)\n\u001B[0;32m-> 1282\u001B[0m     x, s, rank, info \u001B[38;5;241m=\u001B[39m lapack_func(a1, b1, lwork,\n\u001B[1;32m   1283\u001B[0m                                    iwork, cond, \u001B[38;5;28;01mFalse\u001B[39;00m, \u001B[38;5;28;01mFalse\u001B[39;00m)\n\u001B[1;32m   1284\u001B[0m \u001B[38;5;28;01melse\u001B[39;00m:  \u001B[38;5;66;03m# complex data\u001B[39;00m\n\u001B[1;32m   1285\u001B[0m     lwork, rwork, iwork \u001B[38;5;241m=\u001B[39m _compute_lwork(lapack_lwork, m, n,\n\u001B[1;32m   1286\u001B[0m                                          nrhs, cond)\n",
      "\u001B[0;31mKeyboardInterrupt\u001B[0m: "
     ]
    }
   ],
   "execution_count": 303
  }
 ],
 "metadata": {
  "kernelspec": {
   "display_name": "Python 3",
   "language": "python",
   "name": "python3"
  },
  "language_info": {
   "codemirror_mode": {
    "name": "ipython",
    "version": 2
   },
   "file_extension": ".py",
   "mimetype": "text/x-python",
   "name": "python",
   "nbconvert_exporter": "python",
   "pygments_lexer": "ipython2",
   "version": "2.7.6"
  }
 },
 "nbformat": 4,
 "nbformat_minor": 5
}
