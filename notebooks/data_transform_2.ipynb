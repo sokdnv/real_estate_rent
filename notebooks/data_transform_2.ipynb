{
 "cells": [
  {
   "cell_type": "code",
   "id": "initial_id",
   "metadata": {
    "collapsed": true,
    "ExecuteTime": {
     "end_time": "2024-06-21T12:44:30.830944Z",
     "start_time": "2024-06-21T12:44:30.828006Z"
    }
   },
   "source": [
    "import pandas as pd\n",
    "import numpy as np\n",
    "pd.options.display.float_format = '{:,.2f}'.format\n",
    "from sklearn.linear_model import LinearRegression\n",
    "from sklearn.model_selection import train_test_split\n",
    "from sklearn.metrics import mean_absolute_percentage_error\n",
    "from sklearn.feature_selection import SequentialFeatureSelector\n",
    "from sklearn.preprocessing import StandardScaler, MinMaxScaler\n",
    "from sklearn.feature_selection import RFE"
   ],
   "outputs": [],
   "execution_count": 2
  },
  {
   "metadata": {
    "ExecuteTime": {
     "end_time": "2024-06-21T12:45:01.258040Z",
     "start_time": "2024-06-21T12:45:01.067999Z"
    }
   },
   "cell_type": "code",
   "source": "df = pd.read_csv('../../data/interim/data_metro.csv')",
   "id": "43a6e7a2b3be4828",
   "outputs": [],
   "execution_count": 4
  },
  {
   "metadata": {
    "ExecuteTime": {
     "end_time": "2024-06-21T12:46:21.235784Z",
     "start_time": "2024-06-21T12:46:20.197154Z"
    }
   },
   "cell_type": "code",
   "source": [
    "scaler_std = StandardScaler()\n",
    "\n",
    "X = df.drop(columns=['price'])\n",
    "y = df['price']\n",
    "\n",
    "X_train, X_test, y_train, y_test = train_test_split(X, y, test_size=0.2, random_state=42)\n",
    "\n",
    "X_train = scaler_std.fit_transform(X_train)\n",
    "X_test = scaler_std.transform(X_test)\n",
    "\n",
    "model = LinearRegression()\n",
    "model.fit(X_train, y_train)\n",
    "y_pred = model.predict(X_test)\n",
    "\n",
    "mape = mean_absolute_percentage_error(y_test, y_pred)\n",
    "print(f'Baseline MAPE: {mape}')"
   ],
   "id": "dfe1fd241389139d",
   "outputs": [
    {
     "name": "stdout",
     "output_type": "stream",
     "text": [
      "Baseline MAPE: 0.3246299930186311\n"
     ]
    }
   ],
   "execution_count": 6
  },
  {
   "metadata": {
    "ExecuteTime": {
     "end_time": "2024-06-21T12:54:39.442564Z",
     "start_time": "2024-06-21T12:50:38.067834Z"
    }
   },
   "cell_type": "code",
   "source": [
    "# Sequential Feature Selector (forward selection)\n",
    "sfs = SequentialFeatureSelector(model, n_features_to_select=30, direction='forward', scoring='neg_mean_absolute_percentage_error', cv=5)\n",
    "sfs.fit(X_train, y_train)\n",
    "\n",
    "X_train = pd.DataFrame(X_train, columns=X.columns)\n",
    "X_test = pd.DataFrame(X_test, columns=X.columns)\n",
    "\n",
    "\n",
    "# Получение отобранных признаков\n",
    "selected_features = sfs.get_support()\n",
    "\n",
    "# Создание нового набора данных с отобранными признаками\n",
    "X_train_selected = X_train.loc[:, selected_features]\n",
    "X_test_selected = X_test.loc[:, selected_features]\n",
    "\n",
    "# Обучение модели на отобранных признаках\n",
    "selected_model = LinearRegression()\n",
    "selected_model.fit(X_train_selected, y_train)\n",
    "y_pred_selected = selected_model.predict(X_test_selected)\n",
    "\n",
    "# Оценка качества модели\n",
    "selected_mape = mean_absolute_percentage_error(y_test, y_pred_selected)\n",
    "print(f'MAPE на выбранных признаках: {selected_mape}')"
   ],
   "id": "25daec449a58893a",
   "outputs": [
    {
     "name": "stdout",
     "output_type": "stream",
     "text": [
      "MAPE на выбранных признаках: 0.2683246618468463\n"
     ]
    }
   ],
   "execution_count": 8
  },
  {
   "metadata": {
    "ExecuteTime": {
     "end_time": "2024-06-21T13:05:56.135532Z",
     "start_time": "2024-06-21T13:05:56.123187Z"
    }
   },
   "cell_type": "code",
   "source": "df_small = df.drop('price', axis=1)",
   "id": "da4e8cec012025c9",
   "outputs": [],
   "execution_count": 42
  },
  {
   "metadata": {
    "ExecuteTime": {
     "end_time": "2024-06-21T13:05:56.438557Z",
     "start_time": "2024-06-21T13:05:56.433459Z"
    }
   },
   "cell_type": "code",
   "source": "df_small = df_small.loc[:, selected_features]",
   "id": "8c38f1f1e56aca27",
   "outputs": [],
   "execution_count": 43
  },
  {
   "metadata": {
    "ExecuteTime": {
     "end_time": "2024-06-21T13:05:56.676423Z",
     "start_time": "2024-06-21T13:05:56.673407Z"
    }
   },
   "cell_type": "code",
   "source": "df_small['price'] = df['price']",
   "id": "bbf8e5ac32047969",
   "outputs": [],
   "execution_count": 44
  },
  {
   "metadata": {
    "ExecuteTime": {
     "end_time": "2024-06-21T13:05:57.136071Z",
     "start_time": "2024-06-21T13:05:57.014549Z"
    }
   },
   "cell_type": "code",
   "source": "df_small.to_csv('../../data/processed/data_small.csv')",
   "id": "113520a6ec8c588f",
   "outputs": [],
   "execution_count": 45
  },
  {
   "metadata": {
    "ExecuteTime": {
     "end_time": "2024-06-21T13:06:42.926021Z",
     "start_time": "2024-06-21T13:06:42.625124Z"
    }
   },
   "cell_type": "code",
   "source": [
    "X = df.drop(columns=['price'])\n",
    "y = df['price']\n",
    "\n",
    "X_train, X_test, y_train, y_test = train_test_split(X, y, test_size=0.2, random_state=42)\n",
    "\n",
    "X_train = scaler_std.fit_transform(X_train)\n",
    "X_test = scaler_std.transform(X_test)\n",
    "\n",
    "model = LinearRegression()\n",
    "model.fit(X_train, y_train)\n",
    "y_pred = model.predict(X_test)\n",
    "\n",
    "mape = mean_absolute_percentage_error(y_test, y_pred)\n",
    "print(f'Baseline MAPE: {mape}')"
   ],
   "id": "5d45efa32c20b2c4",
   "outputs": [
    {
     "name": "stdout",
     "output_type": "stream",
     "text": [
      "Baseline MAPE: 0.3246299930186311\n"
     ]
    }
   ],
   "execution_count": 48
  },
  {
   "metadata": {
    "ExecuteTime": {
     "end_time": "2024-06-21T13:06:29.976744Z",
     "start_time": "2024-06-21T13:06:28.685817Z"
    }
   },
   "cell_type": "code",
   "source": "df.to_csv('../../data/processed/data.csv')",
   "id": "ccb0df04c816f68a",
   "outputs": [],
   "execution_count": 47
  },
  {
   "metadata": {},
   "cell_type": "code",
   "outputs": [],
   "execution_count": null,
   "source": "",
   "id": "777e84b7e86a5e9f"
  }
 ],
 "metadata": {
  "kernelspec": {
   "display_name": "Python 3",
   "language": "python",
   "name": "python3"
  },
  "language_info": {
   "codemirror_mode": {
    "name": "ipython",
    "version": 2
   },
   "file_extension": ".py",
   "mimetype": "text/x-python",
   "name": "python",
   "nbconvert_exporter": "python",
   "pygments_lexer": "ipython2",
   "version": "2.7.6"
  }
 },
 "nbformat": 4,
 "nbformat_minor": 5
}
