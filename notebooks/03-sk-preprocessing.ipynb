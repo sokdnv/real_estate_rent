{
 "cells": [
  {
   "cell_type": "code",
   "id": "initial_id",
   "metadata": {
    "collapsed": true,
    "ExecuteTime": {
     "end_time": "2024-06-21T08:15:04.924525Z",
     "start_time": "2024-06-21T08:15:04.921864Z"
    }
   },
   "source": [
    "import pandas as pd\n",
    "import numpy as np\n",
    "pd.options.display.float_format = '{:,.2f}'.format\n",
    "from sklearn.preprocessing import OneHotEncoder\n",
    "import re"
   ],
   "outputs": [],
   "execution_count": 156
  },
  {
   "metadata": {
    "ExecuteTime": {
     "end_time": "2024-06-21T08:15:05.018780Z",
     "start_time": "2024-06-21T08:15:05.017092Z"
    }
   },
   "cell_type": "code",
   "source": [
    "import warnings\n",
    "warnings.filterwarnings('ignore')"
   ],
   "id": "70dd7b3725cf0574",
   "outputs": [],
   "execution_count": 157
  },
  {
   "metadata": {
    "ExecuteTime": {
     "end_time": "2024-06-21T08:15:05.114749Z",
     "start_time": "2024-06-21T08:15:05.049391Z"
    }
   },
   "cell_type": "code",
   "source": "df = pd.read_csv('../../data/interim/data_nun_cleared(2_of_2).csv')",
   "id": "2aeb057f2e9a1ed4",
   "outputs": [],
   "execution_count": 158
  },
  {
   "metadata": {
    "ExecuteTime": {
     "end_time": "2024-06-21T08:15:05.124632Z",
     "start_time": "2024-06-21T08:15:05.115944Z"
    }
   },
   "cell_type": "code",
   "source": "df.info()",
   "id": "434de51428176e39",
   "outputs": [
    {
     "name": "stdout",
     "output_type": "stream",
     "text": [
      "<class 'pandas.core.frame.DataFrame'>\n",
      "RangeIndex: 19737 entries, 0 to 19736\n",
      "Data columns (total 14 columns):\n",
      " #   Column                    Non-Null Count  Dtype  \n",
      "---  ------                    --------------  -----  \n",
      " 0   Unnamed: 0                19737 non-null  int64  \n",
      " 1   ID  объявления            19737 non-null  int64  \n",
      " 2   Ремонт                    19737 non-null  object \n",
      " 3   Площадь комнат, м2        19737 non-null  object \n",
      " 4   Балкон                    19737 non-null  object \n",
      " 5   Окна                      19737 non-null  object \n",
      " 6   Санузел                   19737 non-null  object \n",
      " 7   Можно с детьми/животными  19737 non-null  object \n",
      " 8   Дополнительно             19465 non-null  object \n",
      " 9   Высота потолков, м        19737 non-null  float64\n",
      " 10  Лифт                      19737 non-null  object \n",
      " 11  Мусоропровод              19737 non-null  object \n",
      " 12  Ссылка на объявление      19737 non-null  object \n",
      " 13  house_type                19737 non-null  object \n",
      "dtypes: float64(1), int64(2), object(11)\n",
      "memory usage: 2.1+ MB\n"
     ]
    }
   ],
   "execution_count": 159
  },
  {
   "metadata": {
    "ExecuteTime": {
     "end_time": "2024-06-21T08:15:05.129913Z",
     "start_time": "2024-06-21T08:15:05.125211Z"
    }
   },
   "cell_type": "code",
   "source": "df.drop('Unnamed: 0', inplace=True, axis=1)",
   "id": "9eebe94f30c656c7",
   "outputs": [],
   "execution_count": 160
  },
  {
   "metadata": {
    "ExecuteTime": {
     "end_time": "2024-06-21T08:15:05.134199Z",
     "start_time": "2024-06-21T08:15:05.131044Z"
    }
   },
   "cell_type": "code",
   "source": "df['Ремонт'].value_counts()",
   "id": "3a4d965c713f0702",
   "outputs": [
    {
     "data": {
      "text/plain": [
       "Ремонт\n",
       "Косметический    8410\n",
       "Евроремонт       8160\n",
       "Дизайнерский     3031\n",
       "Без ремонта       136\n",
       "Name: count, dtype: int64"
      ]
     },
     "execution_count": 161,
     "metadata": {},
     "output_type": "execute_result"
    }
   ],
   "execution_count": 161
  },
  {
   "metadata": {
    "ExecuteTime": {
     "end_time": "2024-06-21T08:15:05.140221Z",
     "start_time": "2024-06-21T08:15:05.134926Z"
    }
   },
   "cell_type": "code",
   "source": [
    "encoder = OneHotEncoder(sparse_output=False)\n",
    "encoded_data = encoder.fit_transform(df[['Ремонт']])"
   ],
   "id": "edb88ded6554aa89",
   "outputs": [],
   "execution_count": 162
  },
  {
   "metadata": {
    "ExecuteTime": {
     "end_time": "2024-06-21T08:15:05.142676Z",
     "start_time": "2024-06-21T08:15:05.140975Z"
    }
   },
   "cell_type": "code",
   "source": "encoded_df = pd.DataFrame(encoded_data, columns=encoder.get_feature_names_out(['Ремонт']))",
   "id": "43b5825d62247aa3",
   "outputs": [],
   "execution_count": 163
  },
  {
   "metadata": {
    "ExecuteTime": {
     "end_time": "2024-06-21T08:15:05.145393Z",
     "start_time": "2024-06-21T08:15:05.143296Z"
    }
   },
   "cell_type": "code",
   "source": [
    "# выкидываю столбец \"без ремонта\", чтобы не плодить лишние данные\n",
    "encoded_df.drop('Ремонт_Без ремонта', inplace=True, axis=1)"
   ],
   "id": "4564c99ec6bbb3ca",
   "outputs": [],
   "execution_count": 164
  },
  {
   "metadata": {
    "ExecuteTime": {
     "end_time": "2024-06-21T08:15:05.148626Z",
     "start_time": "2024-06-21T08:15:05.146476Z"
    }
   },
   "cell_type": "code",
   "source": [
    "encoded_df.columns = ['rem_diz', 'rem_evro', 'rem_kosm']\n",
    "df_final = pd.concat([df['ID  объявления'], encoded_df], axis=1)\n",
    "df_final.rename(columns={'ID  объявления': 'id'}, inplace=True)"
   ],
   "id": "a8dabb0cf989b5d7",
   "outputs": [],
   "execution_count": 165
  },
  {
   "metadata": {
    "ExecuteTime": {
     "end_time": "2024-06-21T08:15:05.159170Z",
     "start_time": "2024-06-21T08:15:05.155692Z"
    }
   },
   "cell_type": "code",
   "source": [
    "# смотрим, какие символы нас ждут в площади\n",
    "set(''.join(df['Площадь комнат, м2'].unique().tolist()))"
   ],
   "id": "6d698ba5cac88e75",
   "outputs": [
    {
     "data": {
      "text/plain": [
       "{' ',\n",
       " '(',\n",
       " ')',\n",
       " '+',\n",
       " ',',\n",
       " '-',\n",
       " '.',\n",
       " '/',\n",
       " '0',\n",
       " '1',\n",
       " '2',\n",
       " '3',\n",
       " '4',\n",
       " '5',\n",
       " '6',\n",
       " '7',\n",
       " '8',\n",
       " '9',\n",
       " '²',\n",
       " 'м',\n",
       " '—'}"
      ]
     },
     "execution_count": 166,
     "metadata": {},
     "output_type": "execute_result"
    }
   ],
   "execution_count": 166
  },
  {
   "metadata": {
    "ExecuteTime": {
     "end_time": "2024-06-21T08:15:05.201299Z",
     "start_time": "2024-06-21T08:15:05.199031Z"
    }
   },
   "cell_type": "code",
   "source": [
    "def get_rooms_size(text: str):\n",
    "    # меняем все запятые на точки для корректного отображения чисел\n",
    "    # но если точки есть, то считаем запятые разделителями\n",
    "    \n",
    "    # работа с дебильными значениями типо 18,13,10    \n",
    "    if '.' not in text and ' ()+\\-/—' in text:\n",
    "        text = text.replace(',', '.')\n",
    "    # убираем лишнюю фигню\n",
    "    for char in 'м²':\n",
    "        text = text.replace(char, '')\n",
    "    # все возможные разделители текста\n",
    "    delimiters = r'[ ()+\\-/—,]'\n",
    "    result = re.split(delimiters, text)\n",
    "    result = [item for item in result if item]\n",
    "    return sum((map(float, result)))"
   ],
   "id": "5be3cc211f937904",
   "outputs": [],
   "execution_count": 167
  },
  {
   "metadata": {
    "ExecuteTime": {
     "end_time": "2024-06-21T08:15:05.228660Z",
     "start_time": "2024-06-21T08:15:05.226627Z"
    }
   },
   "cell_type": "code",
   "source": [
    "# кто-то указал номер телефона в площади... (берем инфу из площади)\n",
    "df.loc[7136, 'Площадь комнат, м2'] = '20'"
   ],
   "id": "3f91759596a6d1b0",
   "outputs": [],
   "execution_count": 168
  },
  {
   "metadata": {
    "ExecuteTime": {
     "end_time": "2024-06-21T08:15:05.264701Z",
     "start_time": "2024-06-21T08:15:05.248420Z"
    }
   },
   "cell_type": "code",
   "source": "df_final['rooms_size'] = df['Площадь комнат, м2'].apply(get_rooms_size)",
   "id": "c16be3ef5d813be9",
   "outputs": [],
   "execution_count": 169
  },
  {
   "metadata": {
    "ExecuteTime": {
     "end_time": "2024-06-21T08:15:05.271623Z",
     "start_time": "2024-06-21T08:15:05.268381Z"
    }
   },
   "cell_type": "code",
   "source": "df['Балкон'].value_counts()",
   "id": "cbc84b27851b536a",
   "outputs": [
    {
     "data": {
      "text/plain": [
       "Балкон\n",
       "Нет                       6630\n",
       "Балкон (1)                6336\n",
       "Лоджия (1)                5032\n",
       "Балкон (1), Лоджия (1)     610\n",
       "Лоджия (2)                 537\n",
       "Балкон (2)                 423\n",
       "Балкон (3)                  45\n",
       "Лоджия (3)                  42\n",
       "Балкон (2), Лоджия (2)      21\n",
       "Балкон (1), Лоджия (2)      21\n",
       "Балкон (2), Лоджия (1)      16\n",
       "Лоджия (4)                   5\n",
       "Балкон (4)                   4\n",
       "Балкон (3), Лоджия (1)       4\n",
       "Балкон (1), Лоджия (3)       4\n",
       "Балкон (2), Лоджия (3)       3\n",
       "Балкон (1), Лоджия (4)       2\n",
       "Балкон (3), Лоджия (3)       1\n",
       "Балкон (4), Лоджия (4)       1\n",
       "Name: count, dtype: int64"
      ]
     },
     "execution_count": 170,
     "metadata": {},
     "output_type": "execute_result"
    }
   ],
   "execution_count": 170
  },
  {
   "metadata": {
    "ExecuteTime": {
     "end_time": "2024-06-21T08:15:05.303177Z",
     "start_time": "2024-06-21T08:15:05.301172Z"
    }
   },
   "cell_type": "code",
   "source": [
    "def balcony_values(description):\n",
    "    balcony_match = re.search(r'Балкон \\((\\d+)\\)', description)\n",
    "    loggia_match = re.search(r'Лоджия \\((\\d+)\\)', description)\n",
    "    balcony = int(balcony_match.group(1)) if balcony_match else 0\n",
    "    loggia = int(loggia_match.group(1)) if loggia_match else 0\n",
    "    return pd.Series([balcony, loggia])"
   ],
   "id": "9ba1944ae3054676",
   "outputs": [],
   "execution_count": 171
  },
  {
   "metadata": {
    "ExecuteTime": {
     "end_time": "2024-06-21T08:15:06.041996Z",
     "start_time": "2024-06-21T08:15:05.317411Z"
    }
   },
   "cell_type": "code",
   "source": "df_final[['balcony', 'logia']] = df['Балкон'].apply(balcony_values)",
   "id": "1cf68fad752c75b9",
   "outputs": [],
   "execution_count": 172
  },
  {
   "metadata": {
    "ExecuteTime": {
     "end_time": "2024-06-21T08:15:06.046306Z",
     "start_time": "2024-06-21T08:15:06.043038Z"
    }
   },
   "cell_type": "code",
   "source": "df['Окна'].value_counts()",
   "id": "3d59fe6a38653a6f",
   "outputs": [
    {
     "data": {
      "text/plain": [
       "Окна\n",
       "Во двор            14374\n",
       "На улицу и двор     3246\n",
       "На улицу            2117\n",
       "Name: count, dtype: int64"
      ]
     },
     "execution_count": 173,
     "metadata": {},
     "output_type": "execute_result"
    }
   ],
   "execution_count": 173
  },
  {
   "metadata": {
    "ExecuteTime": {
     "end_time": "2024-06-21T08:15:06.048714Z",
     "start_time": "2024-06-21T08:15:06.046901Z"
    }
   },
   "cell_type": "code",
   "source": [
    "def view_encode(view):\n",
    "    if view == 'Во двор':\n",
    "        return pd.Series([1, 0])\n",
    "    elif view == 'На улицу':\n",
    "        return pd.Series([0, 1])\n",
    "    else:\n",
    "        return pd.Series([1, 1])"
   ],
   "id": "486d627562242475",
   "outputs": [],
   "execution_count": 174
  },
  {
   "metadata": {
    "ExecuteTime": {
     "end_time": "2024-06-21T08:15:06.588378Z",
     "start_time": "2024-06-21T08:15:06.049823Z"
    }
   },
   "cell_type": "code",
   "source": "df_final[['dvor_view', 'street_view']] = df['Окна'].apply(view_encode)",
   "id": "8817d5c265b4a465",
   "outputs": [],
   "execution_count": 175
  },
  {
   "metadata": {
    "ExecuteTime": {
     "end_time": "2024-06-21T08:15:06.591006Z",
     "start_time": "2024-06-21T08:15:06.588928Z"
    }
   },
   "cell_type": "code",
   "source": [
    "def toilet_values(description):\n",
    "    merged_match = re.search(r'Совмещенный \\((\\d+)\\)', description)\n",
    "    split_match = re.search(r'Раздельный \\((\\d+)\\)', description)\n",
    "    merged = int(merged_match.group(1)) if merged_match else 0\n",
    "    split = int(split_match.group(1)) if split_match else 0\n",
    "    return pd.Series([merged, split])"
   ],
   "id": "e637668e321f704c",
   "outputs": [],
   "execution_count": 176
  },
  {
   "metadata": {
    "ExecuteTime": {
     "end_time": "2024-06-21T08:15:07.245826Z",
     "start_time": "2024-06-21T08:15:06.591552Z"
    }
   },
   "cell_type": "code",
   "source": "df_final[['merged_toilet', 'split_toilet']] = df['Санузел'].apply(toilet_values)",
   "id": "1720a0ab9439467e",
   "outputs": [],
   "execution_count": 177
  },
  {
   "metadata": {
    "ExecuteTime": {
     "end_time": "2024-06-21T08:15:07.249589Z",
     "start_time": "2024-06-21T08:15:07.246438Z"
    }
   },
   "cell_type": "code",
   "source": "df['Можно с детьми/животными'].value_counts()",
   "id": "4bb8e6758ce4614b",
   "outputs": [
    {
     "data": {
      "text/plain": [
       "Можно с детьми/животными\n",
       "Можно с детьми                       8540\n",
       "Можно с детьми, Можно с животными    6075\n",
       "Ни с кем нельзя!                     4915\n",
       "Можно с животными                     207\n",
       "Name: count, dtype: int64"
      ]
     },
     "execution_count": 178,
     "metadata": {},
     "output_type": "execute_result"
    }
   ],
   "execution_count": 178
  },
  {
   "metadata": {
    "ExecuteTime": {
     "end_time": "2024-06-21T08:15:07.252002Z",
     "start_time": "2024-06-21T08:15:07.250110Z"
    }
   },
   "cell_type": "code",
   "source": [
    "def allow_encode(allow):\n",
    "    if allow == 'Можно с детьми':\n",
    "        return pd.Series([1, 0])\n",
    "    elif allow == 'Можно с животными':\n",
    "        return pd.Series([0, 1])\n",
    "    elif allow == 'Можно с детьми, Можно с животными':\n",
    "        return pd.Series([1, 1])\n",
    "    else:\n",
    "        return pd.Series([0, 0])"
   ],
   "id": "171a3d80a251fc0b",
   "outputs": [],
   "execution_count": 179
  },
  {
   "metadata": {
    "ExecuteTime": {
     "end_time": "2024-06-21T08:15:07.908091Z",
     "start_time": "2024-06-21T08:15:07.252625Z"
    }
   },
   "cell_type": "code",
   "source": "df_final[['kids_allowed', 'pets_allowed']] = df['Можно с детьми/животными'].apply(allow_encode)",
   "id": "9d79ee6b78cd9c81",
   "outputs": [],
   "execution_count": 180
  },
  {
   "metadata": {
    "ExecuteTime": {
     "end_time": "2024-06-21T08:15:07.913027Z",
     "start_time": "2024-06-21T08:15:07.910658Z"
    }
   },
   "cell_type": "code",
   "source": "df['Дополнительно'].fillna('', inplace=True)",
   "id": "8ad733b69fadb452",
   "outputs": [],
   "execution_count": 181
  },
  {
   "metadata": {
    "ExecuteTime": {
     "end_time": "2024-06-21T08:15:07.915644Z",
     "start_time": "2024-06-21T08:15:07.913615Z"
    }
   },
   "cell_type": "code",
   "source": [
    "def encode_features(equipment_list):\n",
    "    equipment_items = equipment_list.split(', ')\n",
    "    features = [\n",
    "        'Мебель в комнатах', 'Мебель на кухне', 'Ванна', 'Душевая кабина', \n",
    "        'Стиральная машина', 'Кондиционер', 'Посудомоечная машина', \n",
    "        'Телевизор', 'Холодильник', 'Интернет', 'Телефон'\n",
    "    ]\n",
    "    encoded_features = {feature: (1 if feature in equipment_items else 0) for feature in features}\n",
    "    return pd.Series(encoded_features)"
   ],
   "id": "e64df0e7a417e043",
   "outputs": [],
   "execution_count": 182
  },
  {
   "metadata": {
    "ExecuteTime": {
     "end_time": "2024-06-21T08:15:09.021644Z",
     "start_time": "2024-06-21T08:15:07.916264Z"
    }
   },
   "cell_type": "code",
   "source": [
    "df_final[['furn_in_rooms', 'furn_at_kitchen', 'bath',\n",
    "        'shower', 'washing', 'aircon', 'dishwaser',\n",
    "        'tv', 'freezer', 'internet', 'phone']] = df['Дополнительно'].apply(encode_features)"
   ],
   "id": "e01a943d69237a8a",
   "outputs": [],
   "execution_count": 183
  },
  {
   "metadata": {
    "ExecuteTime": {
     "end_time": "2024-06-21T08:15:09.024911Z",
     "start_time": "2024-06-21T08:15:09.022191Z"
    }
   },
   "cell_type": "code",
   "source": [
    "# убираем выбросы\n",
    "df.loc[df['Высота потолков, м'] > 150, 'Высота потолков, м'] = df['Высота потолков, м'] / 100\n",
    "df.loc[df['Высота потолков, м'] > 15, 'Высота потолков, м'] = df['Высота потолков, м'] / 10"
   ],
   "id": "79fd329810e36bd5",
   "outputs": [],
   "execution_count": 184
  },
  {
   "metadata": {
    "ExecuteTime": {
     "end_time": "2024-06-21T08:15:09.027783Z",
     "start_time": "2024-06-21T08:15:09.025524Z"
    }
   },
   "cell_type": "code",
   "source": [
    "# убираем жилье хоббита\n",
    "df.loc[df['Высота потолков, м'] == 1.2, 'Высота потолков, м'] = df['Высота потолков, м'].median()"
   ],
   "id": "3f6c9841e6d9fabb",
   "outputs": [],
   "execution_count": 185
  },
  {
   "metadata": {
    "ExecuteTime": {
     "end_time": "2024-06-21T08:15:09.030505Z",
     "start_time": "2024-06-21T08:15:09.028389Z"
    }
   },
   "cell_type": "code",
   "source": [
    "# и великана\n",
    "df.loc[df['Высота потолков, м'] == 12.8, 'Высота потолков, м'] = df['Высота потолков, м'].median()"
   ],
   "id": "31fa954f3b84c3e2",
   "outputs": [],
   "execution_count": 186
  },
  {
   "metadata": {
    "ExecuteTime": {
     "end_time": "2024-06-21T08:15:09.032630Z",
     "start_time": "2024-06-21T08:15:09.031070Z"
    }
   },
   "cell_type": "code",
   "source": "df_final['ceiling_height'] = df['Высота потолков, м']",
   "id": "23ad6817b93a73bb",
   "outputs": [],
   "execution_count": 187
  },
  {
   "metadata": {
    "ExecuteTime": {
     "end_time": "2024-06-21T08:15:09.042145Z",
     "start_time": "2024-06-21T08:15:09.033089Z"
    }
   },
   "cell_type": "code",
   "source": [
    "def lift_values(description):\n",
    "    pass_match = re.search(r'Пасс \\((\\d+)\\)', description)\n",
    "    gruz_match = re.search(r'Груз \\((\\d+)\\)', description)\n",
    "    pass_lift = int(pass_match.group(1)) if pass_match else 0\n",
    "    gruz_lift = int(gruz_match.group(1)) if gruz_match else 0\n",
    "    return pd.Series([pass_lift, gruz_lift])"
   ],
   "id": "af7095c696e23747",
   "outputs": [],
   "execution_count": 188
  },
  {
   "metadata": {
    "ExecuteTime": {
     "end_time": "2024-06-21T08:15:09.601365Z",
     "start_time": "2024-06-21T08:15:09.042970Z"
    }
   },
   "cell_type": "code",
   "source": "df_final[['pass_lift', 'gruz_lift']] = df['Лифт'].apply(lift_values)",
   "id": "a603dc018c97c5bd",
   "outputs": [],
   "execution_count": 189
  },
  {
   "metadata": {
    "ExecuteTime": {
     "end_time": "2024-06-21T08:15:09.606640Z",
     "start_time": "2024-06-21T08:15:09.601874Z"
    }
   },
   "cell_type": "code",
   "source": "df_final['trashprovod'] = df['Мусоропровод'].apply(lambda x: 1 if x == 'Да' else 0)",
   "id": "4fa0e830cb7724d2",
   "outputs": [],
   "execution_count": 190
  },
  {
   "metadata": {
    "ExecuteTime": {
     "end_time": "2024-06-21T08:15:09.609940Z",
     "start_time": "2024-06-21T08:15:09.607172Z"
    }
   },
   "cell_type": "code",
   "source": [
    "# разбираемся с выбросами\n",
    "df_final.loc[df_final['pass_lift'] > 10, 'pass_lift'] = df_final['pass_lift'] / 10\n",
    "df_final.loc[df_final['gruz_lift'] == 12, 'gruz_lift'] = 1"
   ],
   "id": "f4044997fd371a2",
   "outputs": [],
   "execution_count": 191
  },
  {
   "metadata": {
    "ExecuteTime": {
     "end_time": "2024-06-21T08:15:09.612474Z",
     "start_time": "2024-06-21T08:15:09.610573Z"
    }
   },
   "cell_type": "code",
   "source": "df_final['link'] = df['Ссылка на объявление']",
   "id": "225215ba36243928",
   "outputs": [],
   "execution_count": 192
  },
  {
   "metadata": {
    "ExecuteTime": {
     "end_time": "2024-06-21T08:15:09.615355Z",
     "start_time": "2024-06-21T08:15:09.613145Z"
    }
   },
   "cell_type": "code",
   "source": [
    "# вручную работаем с выбросами с помощью ссылки на объявление\n",
    "df_final.loc[df_final['id'] == 274707780, 'rooms_size'] = 24"
   ],
   "id": "fba3c12f2bbd8187",
   "outputs": [],
   "execution_count": 193
  },
  {
   "metadata": {
    "ExecuteTime": {
     "end_time": "2024-06-21T08:15:09.618823Z",
     "start_time": "2024-06-21T08:15:09.615994Z"
    }
   },
   "cell_type": "code",
   "source": "df['house_type'].value_counts()",
   "id": "b31c05d0d23e7ac1",
   "outputs": [
    {
     "data": {
      "text/plain": [
       "house_type\n",
       "Панельный              7729\n",
       "Монолитный             4498\n",
       "Кирпичный              4426\n",
       "Блочный                1736\n",
       "Монолитно-кирпичный    1096\n",
       "Сталинский              151\n",
       "старый фонд              93\n",
       "Деревянный                7\n",
       "Щитовой                   1\n",
       "Name: count, dtype: int64"
      ]
     },
     "execution_count": 194,
     "metadata": {},
     "output_type": "execute_result"
    }
   ],
   "execution_count": 194
  },
  {
   "metadata": {
    "ExecuteTime": {
     "end_time": "2024-06-21T08:15:09.621541Z",
     "start_time": "2024-06-21T08:15:09.619369Z"
    }
   },
   "cell_type": "code",
   "source": "df.loc[df['house_type'].isin(['Сталинский', 'старый фонд', 'Деревянный', 'Щитовой']), 'house_type'] = 'Другое'",
   "id": "c512e5597ef0d4ee",
   "outputs": [],
   "execution_count": 195
  },
  {
   "metadata": {
    "ExecuteTime": {
     "end_time": "2024-06-21T08:15:09.626635Z",
     "start_time": "2024-06-21T08:15:09.622147Z"
    }
   },
   "cell_type": "code",
   "source": "encoded_data = encoder.fit_transform(df[['house_type']])",
   "id": "5092291b41f059df",
   "outputs": [],
   "execution_count": 196
  },
  {
   "metadata": {
    "ExecuteTime": {
     "end_time": "2024-06-21T08:15:09.629022Z",
     "start_time": "2024-06-21T08:15:09.627252Z"
    }
   },
   "cell_type": "code",
   "source": "enc_df = pd.DataFrame(encoded_data, columns=encoder.get_feature_names_out(['house_type']))",
   "id": "2c1d217700a20ce0",
   "outputs": [],
   "execution_count": 197
  },
  {
   "metadata": {
    "ExecuteTime": {
     "end_time": "2024-06-21T08:15:09.630834Z",
     "start_time": "2024-06-21T08:15:09.629494Z"
    }
   },
   "cell_type": "code",
   "source": "enc_df.columns = ['ht_block', 'ht_other', 'ht_brick', 'ht_mon_brick', 'ht_mon', 'ht_panel']",
   "id": "b65d2045225d9f78",
   "outputs": [],
   "execution_count": 198
  },
  {
   "metadata": {
    "ExecuteTime": {
     "end_time": "2024-06-21T08:15:09.655251Z",
     "start_time": "2024-06-21T08:15:09.634062Z"
    }
   },
   "cell_type": "code",
   "source": "enc_df = enc_df.applymap(int)",
   "id": "7abbd485e24f4416",
   "outputs": [],
   "execution_count": 199
  },
  {
   "metadata": {
    "ExecuteTime": {
     "end_time": "2024-06-21T08:15:09.659526Z",
     "start_time": "2024-06-21T08:15:09.655818Z"
    }
   },
   "cell_type": "code",
   "source": "df_final = pd.concat([df_final, enc_df], axis=1)",
   "id": "47cb7402a5d02272",
   "outputs": [],
   "execution_count": 200
  },
  {
   "metadata": {
    "ExecuteTime": {
     "end_time": "2024-06-21T08:20:46.824132Z",
     "start_time": "2024-06-21T08:20:46.805273Z"
    }
   },
   "cell_type": "code",
   "source": "df_final[['rem_diz', 'rem_evro', 'rem_kosm']] = df_final[['rem_diz', 'rem_evro', 'rem_kosm']].applymap(int)",
   "id": "f9865aa37988978f",
   "outputs": [],
   "execution_count": 207
  },
  {
   "metadata": {
    "ExecuteTime": {
     "end_time": "2024-06-21T08:21:04.567864Z",
     "start_time": "2024-06-21T08:21:04.556537Z"
    }
   },
   "cell_type": "code",
   "source": "df_final.head()",
   "id": "d28973ce29f92dee",
   "outputs": [
    {
     "data": {
      "text/plain": [
       "          id  rem_diz  rem_evro  rem_kosm  rooms_size  balcony  logia  \\\n",
       "0  271271157        1         0         0      140.00        0      0   \n",
       "1  271634126        1         0         0       95.00        0      0   \n",
       "2  271173086        0         1         0      116.00        0      0   \n",
       "3  272197456        0         1         0       95.00        0      0   \n",
       "4  273614615        0         1         0       38.00        0      0   \n",
       "\n",
       "   dvor_view  street_view  merged_toilet  ...  pass_lift  gruz_lift  \\\n",
       "0          1            1              2  ...          4          1   \n",
       "1          1            1              2  ...          1          1   \n",
       "2          1            1              3  ...          1          0   \n",
       "3          1            1              3  ...          1          0   \n",
       "4          1            1              2  ...          1          1   \n",
       "\n",
       "   trashprovod                                     link  ht_block  ht_other  \\\n",
       "0            1  https://www.cian.ru/rent/flat/271271157         0         0   \n",
       "1            0  https://www.cian.ru/rent/flat/271634126         0         0   \n",
       "2            1  https://www.cian.ru/rent/flat/271173086         0         0   \n",
       "3            1  https://www.cian.ru/rent/flat/272197456         0         0   \n",
       "4            1  https://www.cian.ru/rent/flat/273614615         0         0   \n",
       "\n",
       "   ht_brick  ht_mon_brick  ht_mon  ht_panel  \n",
       "0         0             0       1         0  \n",
       "1         0             1       0         0  \n",
       "2         0             0       1         0  \n",
       "3         1             0       0         0  \n",
       "4         0             0       0         1  \n",
       "\n",
       "[5 rows x 35 columns]"
      ],
      "text/html": [
       "<div>\n",
       "<style scoped>\n",
       "    .dataframe tbody tr th:only-of-type {\n",
       "        vertical-align: middle;\n",
       "    }\n",
       "\n",
       "    .dataframe tbody tr th {\n",
       "        vertical-align: top;\n",
       "    }\n",
       "\n",
       "    .dataframe thead th {\n",
       "        text-align: right;\n",
       "    }\n",
       "</style>\n",
       "<table border=\"1\" class=\"dataframe\">\n",
       "  <thead>\n",
       "    <tr style=\"text-align: right;\">\n",
       "      <th></th>\n",
       "      <th>id</th>\n",
       "      <th>rem_diz</th>\n",
       "      <th>rem_evro</th>\n",
       "      <th>rem_kosm</th>\n",
       "      <th>rooms_size</th>\n",
       "      <th>balcony</th>\n",
       "      <th>logia</th>\n",
       "      <th>dvor_view</th>\n",
       "      <th>street_view</th>\n",
       "      <th>merged_toilet</th>\n",
       "      <th>...</th>\n",
       "      <th>pass_lift</th>\n",
       "      <th>gruz_lift</th>\n",
       "      <th>trashprovod</th>\n",
       "      <th>link</th>\n",
       "      <th>ht_block</th>\n",
       "      <th>ht_other</th>\n",
       "      <th>ht_brick</th>\n",
       "      <th>ht_mon_brick</th>\n",
       "      <th>ht_mon</th>\n",
       "      <th>ht_panel</th>\n",
       "    </tr>\n",
       "  </thead>\n",
       "  <tbody>\n",
       "    <tr>\n",
       "      <th>0</th>\n",
       "      <td>271271157</td>\n",
       "      <td>1</td>\n",
       "      <td>0</td>\n",
       "      <td>0</td>\n",
       "      <td>140.00</td>\n",
       "      <td>0</td>\n",
       "      <td>0</td>\n",
       "      <td>1</td>\n",
       "      <td>1</td>\n",
       "      <td>2</td>\n",
       "      <td>...</td>\n",
       "      <td>4</td>\n",
       "      <td>1</td>\n",
       "      <td>1</td>\n",
       "      <td>https://www.cian.ru/rent/flat/271271157</td>\n",
       "      <td>0</td>\n",
       "      <td>0</td>\n",
       "      <td>0</td>\n",
       "      <td>0</td>\n",
       "      <td>1</td>\n",
       "      <td>0</td>\n",
       "    </tr>\n",
       "    <tr>\n",
       "      <th>1</th>\n",
       "      <td>271634126</td>\n",
       "      <td>1</td>\n",
       "      <td>0</td>\n",
       "      <td>0</td>\n",
       "      <td>95.00</td>\n",
       "      <td>0</td>\n",
       "      <td>0</td>\n",
       "      <td>1</td>\n",
       "      <td>1</td>\n",
       "      <td>2</td>\n",
       "      <td>...</td>\n",
       "      <td>1</td>\n",
       "      <td>1</td>\n",
       "      <td>0</td>\n",
       "      <td>https://www.cian.ru/rent/flat/271634126</td>\n",
       "      <td>0</td>\n",
       "      <td>0</td>\n",
       "      <td>0</td>\n",
       "      <td>1</td>\n",
       "      <td>0</td>\n",
       "      <td>0</td>\n",
       "    </tr>\n",
       "    <tr>\n",
       "      <th>2</th>\n",
       "      <td>271173086</td>\n",
       "      <td>0</td>\n",
       "      <td>1</td>\n",
       "      <td>0</td>\n",
       "      <td>116.00</td>\n",
       "      <td>0</td>\n",
       "      <td>0</td>\n",
       "      <td>1</td>\n",
       "      <td>1</td>\n",
       "      <td>3</td>\n",
       "      <td>...</td>\n",
       "      <td>1</td>\n",
       "      <td>0</td>\n",
       "      <td>1</td>\n",
       "      <td>https://www.cian.ru/rent/flat/271173086</td>\n",
       "      <td>0</td>\n",
       "      <td>0</td>\n",
       "      <td>0</td>\n",
       "      <td>0</td>\n",
       "      <td>1</td>\n",
       "      <td>0</td>\n",
       "    </tr>\n",
       "    <tr>\n",
       "      <th>3</th>\n",
       "      <td>272197456</td>\n",
       "      <td>0</td>\n",
       "      <td>1</td>\n",
       "      <td>0</td>\n",
       "      <td>95.00</td>\n",
       "      <td>0</td>\n",
       "      <td>0</td>\n",
       "      <td>1</td>\n",
       "      <td>1</td>\n",
       "      <td>3</td>\n",
       "      <td>...</td>\n",
       "      <td>1</td>\n",
       "      <td>0</td>\n",
       "      <td>1</td>\n",
       "      <td>https://www.cian.ru/rent/flat/272197456</td>\n",
       "      <td>0</td>\n",
       "      <td>0</td>\n",
       "      <td>1</td>\n",
       "      <td>0</td>\n",
       "      <td>0</td>\n",
       "      <td>0</td>\n",
       "    </tr>\n",
       "    <tr>\n",
       "      <th>4</th>\n",
       "      <td>273614615</td>\n",
       "      <td>0</td>\n",
       "      <td>1</td>\n",
       "      <td>0</td>\n",
       "      <td>38.00</td>\n",
       "      <td>0</td>\n",
       "      <td>0</td>\n",
       "      <td>1</td>\n",
       "      <td>1</td>\n",
       "      <td>2</td>\n",
       "      <td>...</td>\n",
       "      <td>1</td>\n",
       "      <td>1</td>\n",
       "      <td>1</td>\n",
       "      <td>https://www.cian.ru/rent/flat/273614615</td>\n",
       "      <td>0</td>\n",
       "      <td>0</td>\n",
       "      <td>0</td>\n",
       "      <td>0</td>\n",
       "      <td>0</td>\n",
       "      <td>1</td>\n",
       "    </tr>\n",
       "  </tbody>\n",
       "</table>\n",
       "<p>5 rows × 35 columns</p>\n",
       "</div>"
      ]
     },
     "execution_count": 209,
     "metadata": {},
     "output_type": "execute_result"
    }
   ],
   "execution_count": 209
  },
  {
   "metadata": {
    "ExecuteTime": {
     "end_time": "2024-06-21T08:21:07.378078Z",
     "start_time": "2024-06-21T08:21:07.276045Z"
    }
   },
   "cell_type": "code",
   "source": [
    "# экспортируем\n",
    "df_final.to_csv('../../data/interim/data_encoded(2_of_2).csv')"
   ],
   "id": "eb498d9770c23a72",
   "outputs": [],
   "execution_count": 210
  }
 ],
 "metadata": {
  "kernelspec": {
   "display_name": "Python 3",
   "language": "python",
   "name": "python3"
  },
  "language_info": {
   "codemirror_mode": {
    "name": "ipython",
    "version": 2
   },
   "file_extension": ".py",
   "mimetype": "text/x-python",
   "name": "python",
   "nbconvert_exporter": "python",
   "pygments_lexer": "ipython2",
   "version": "2.7.6"
  }
 },
 "nbformat": 4,
 "nbformat_minor": 5
}
